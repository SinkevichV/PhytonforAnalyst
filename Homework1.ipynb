{
  "metadata": {
    "language_info": {
      "codemirror_mode": {
        "name": "python",
        "version": 3
      },
      "file_extension": ".py",
      "mimetype": "text/x-python",
      "name": "python",
      "nbconvert_exporter": "python",
      "pygments_lexer": "ipython3",
      "version": "3.8"
    },
    "kernelspec": {
      "name": "python",
      "display_name": "Python (Pyodide)",
      "language": "python"
    }
  },
  "nbformat_minor": 4,
  "nbformat": 4,
  "cells": [
    {
      "cell_type": "markdown",
      "source": "## Условие 2:\n### На складе лежат разные фрукты в разном количестве. Нужно написать функцию, которая на вход принимает любое количество названий фруктов и их количество, а возвращает общее количество фруктов на складе.",
      "metadata": {}
    },
    {
      "cell_type": "code",
      "source": "def fruits(**kwargs):\n    {fruit for fruit, values in kwargs.items()}\n    return print(f'Общее количество фрутов: {sum(kwargs.values())}')",
      "metadata": {
        "trusted": true
      },
      "execution_count": 21,
      "outputs": []
    },
    {
      "cell_type": "code",
      "source": "fruits(персик = 13, апельсин = 19, яблоко = 9)",
      "metadata": {
        "trusted": true
      },
      "execution_count": 20,
      "outputs": [
        {
          "name": "stdout",
          "text": "Общее количество фрутов: 41\n",
          "output_type": "stream"
        }
      ]
    },
    {
      "cell_type": "markdown",
      "source": "## Условие 3:\n### Дан список с затратами на рекламу. Но в данных есть ошибки, некоторые затраты имеют отрицательную величину. Удалите такие значения из списка и посчитайте суммарные затраты [100, 125, -90, 345, 655, -1, 0, 200] Используйте list comprehensions",
      "metadata": {}
    },
    {
      "cell_type": "code",
      "source": "expenses = [100, 125, -90, 345, 655, -1, 0, 200]\nno_negative_values = [expense for expense in expenses if expense > 0]\nprint(f'Затраты на рекламу без отрицательных значений {no_negative_values}\\nСуммарные затраты составляют: {sum(no_negative_values)}')",
      "metadata": {
        "trusted": true
      },
      "execution_count": 35,
      "outputs": [
        {
          "name": "stdout",
          "text": "Затраты на рекламу без отрицательных значений [100, 125, 345, 655, 200]\nСуммарные затраты составляют: 1425\n",
          "output_type": "stream"
        }
      ]
    },
    {
      "cell_type": "code",
      "source": "",
      "metadata": {},
      "execution_count": null,
      "outputs": []
    }
  ]
}