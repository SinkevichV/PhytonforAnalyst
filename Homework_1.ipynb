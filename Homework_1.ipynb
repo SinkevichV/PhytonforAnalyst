{
  "metadata": {
    "language_info": {
      "codemirror_mode": {
        "name": "python",
        "version": 3
      },
      "file_extension": ".py",
      "mimetype": "text/x-python",
      "name": "python",
      "nbconvert_exporter": "python",
      "pygments_lexer": "ipython3",
      "version": "3.8"
    },
    "kernelspec": {
      "name": "python",
      "display_name": "Python (Pyodide)",
      "language": "python"
    }
  },
  "nbformat_minor": 4,
  "nbformat": 4,
  "cells": [
    {
      "cell_type": "markdown",
      "source": "## Условие 2:\n### На складе лежат разные фрукты в разном количестве. Нужно написать функцию, которая на вход принимает любое количество названий фруктов и их количество, а возвращает общее количество фруктов на складе.",
      "metadata": {}
    },
    {
      "cell_type": "code",
      "source": "def fruits(**kwargs):\n    {fruit for fruit, values in kwargs.items()}\n    return print(f'Общее количество фрутов: {sum(kwargs.values())}')",
      "metadata": {
        "trusted": true
      },
      "execution_count": 21,
      "outputs": []
    },
    {
      "cell_type": "code",
      "source": "fruits(персик = 13, апельсин = 19, яблоко = 9)",
      "metadata": {
        "trusted": true
      },
      "execution_count": 20,
      "outputs": [
        {
          "name": "stdout",
          "text": "Общее количество фрутов: 41\n",
          "output_type": "stream"
        }
      ]
    },
    {
      "cell_type": "markdown",
      "source": "## Условие 3:\n### Дан список с затратами на рекламу. Но в данных есть ошибки, некоторые затраты имеют отрицательную величину. Удалите такие значения из списка и посчитайте суммарные затраты [100, 125, -90, 345, 655, -1, 0, 200] Используйте list comprehensions",
      "metadata": {}
    },
    {
      "cell_type": "code",
      "source": "expenses = [100, 125, -90, 345, 655, -1, 0, 200]\nno_negative_values = [expense for expense in expenses if expense > 0]\nprint(f'Затраты на рекламу без отрицательных значений {no_negative_values}\\nСуммарные затраты составляют: {sum(no_negative_values)}')",
      "metadata": {
        "trusted": true
      },
      "execution_count": 35,
      "outputs": [
        {
          "name": "stdout",
          "text": "Затраты на рекламу без отрицательных значений [100, 125, 345, 655, 200]\nСуммарные затраты составляют: 1425\n",
          "output_type": "stream"
        }
      ]
    },
    {
      "cell_type": "markdown",
      "source": "## Условие 4:\n### 4.1 Найдите, какая выручка у компании в ноябре. Используйте list comprehensions\n#### Даны два списка. \n#### **Дата покупки** ['2021-09-14', '2021-12-15', '2021-09-08', '2021-12-05', '2021-10-09', '2021-09-30', '2021-12-22', '2021-11-29', '2021-12-24', '2021-11-26', '2021-10-27', '2021-12-18', '2021-11-09', '2021-11-23', '2021-09-27', '2021-10-02', '2021-12-27', '2021-09-20', '2021-12-13', '2021-11-01', '2021-11-09', '2021-12-06', '2021-12-08', '2021-10-09', '2021-10-31', '2021-09-30', '2021-11-09', '2021-12-13', '2021-10-26', '2021-12-09'] \n#### **Суммы покупок по датам** [1270, 8413, 9028, 3703, 5739, 4095, 295, 4944, 5723, 3701, 4471, 651, 7037, 4274, 6275, 4988, 6930, 2971, 6592, 2004, 2822, 519, 3406, 2732, 5015, 2008, 316, 6333, 5700, 2887]",
      "metadata": {}
    },
    {
      "cell_type": "code",
      "source": "dates = ['2021-09-14', '2021-12-15', '2021-09-08', '2021-12-05', '2021-10-09', '2021-09-30', '2021-12-22', '2021-11-29', '2021-12-24', '2021-11-26', '2021-10-27', '2021-12-18', '2021-11-09', '2021-11-23', '2021-09-27',\n              '2021-10-02', '2021-12-27', '2021-09-20', '2021-12-13', '2021-11-01', '2021-11-09', '2021-12-06', '2021-12-08', '2021-10-09', '2021-10-31', '2021-09-30', '2021-11-09', '2021-12-13', '2021-10-26', '2021-12-09']\npurchases = [1270, 8413, 9028, 3703, 5739, 4095, 295, 4944, 5723, 3701, 4471, 651, 7037, 4274,\n                  6275, 4988, 6930, 2971, 6592, 2004, 2822, 519, 3406, 2732, 5015, 2008, 316, 6333, 5700, 2887]",
      "metadata": {
        "trusted": true
      },
      "execution_count": 1,
      "outputs": []
    },
    {
      "cell_type": "code",
      "source": "month = [i.split('-')[1] for i in dates]",
      "metadata": {
        "trusted": true
      },
      "execution_count": 2,
      "outputs": []
    },
    {
      "cell_type": "code",
      "source": "purchases_November = [(f'Месяц {month[i]}', f'выручка {purchases[j]}')\n                          for i in range(len(month))\n                          for j in range(len(purchases))\n                          if i == j and month[i] == '11']",
      "metadata": {
        "trusted": true
      },
      "execution_count": 3,
      "outputs": []
    },
    {
      "cell_type": "code",
      "source": "purchases_November",
      "metadata": {
        "trusted": true
      },
      "execution_count": 6,
      "outputs": [
        {
          "execution_count": 6,
          "output_type": "execute_result",
          "data": {
            "text/plain": "[('Месяц 11', 'выручка 4944'),\n ('Месяц 11', 'выручка 3701'),\n ('Месяц 11', 'выручка 7037'),\n ('Месяц 11', 'выручка 4274'),\n ('Месяц 11', 'выручка 2004'),\n ('Месяц 11', 'выручка 2822'),\n ('Месяц 11', 'выручка 316')]"
          },
          "metadata": {}
        }
      ]
    },
    {
      "cell_type": "code",
      "source": "print(f'В ноябре выручка составила: {sum([purchase for dates, purchase in zip(dates, purchases) if dates[5:7] == \"11\"])}')",
      "metadata": {
        "trusted": true
      },
      "execution_count": 8,
      "outputs": [
        {
          "name": "stdout",
          "text": "В ноябре выручка составила: 25098\n",
          "output_type": "stream"
        }
      ]
    },
    {
      "cell_type": "markdown",
      "source": "### 4.2 Найдите выручку компании в зависимости от месяца\n#### Для этого напишите функцию, которая на вход принимает список с датами и список с выручкой, а на выходе словарь, где ключи - это месяцы, а значения - это выручка. Используйте аннотирование типов.",
      "metadata": {}
    },
    {
      "cell_type": "code",
      "source": "def revenueMonth(date: list, revenue: list) -> dict:\n    dict_Month = {}\n    for i in range(len(date)):\n        if date[i].split('-')[1] in dict_Month.keys():\n            dict_Month[date[i].split('-')[1]] += revenue[i]\n        else:\n            dict_Month[date[i].split('-')[1]] = revenue[i]\n    return dict_Month",
      "metadata": {
        "trusted": true
      },
      "execution_count": 20,
      "outputs": []
    },
    {
      "cell_type": "code",
      "source": "revenueMonth(dates, purchases)",
      "metadata": {
        "trusted": true
      },
      "execution_count": 21,
      "outputs": [
        {
          "execution_count": 21,
          "output_type": "execute_result",
          "data": {
            "text/plain": "{'09': 25647, '12': 45452, '10': 28645, '11': 25098}"
          },
          "metadata": {}
        }
      ]
    }
  ]
}